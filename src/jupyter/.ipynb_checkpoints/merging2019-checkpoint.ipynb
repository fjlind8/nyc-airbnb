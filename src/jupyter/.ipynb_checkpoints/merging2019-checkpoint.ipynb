{
 "cells": [
  {
   "cell_type": "code",
   "execution_count": 10,
   "metadata": {},
   "outputs": [],
   "source": [
    "import pandas as pd\n",
    "import numpy as np\n",
    "import os"
   ]
  },
  {
   "cell_type": "code",
   "execution_count": 11,
   "metadata": {},
   "outputs": [
    {
     "data": {
      "text/plain": [
       "'/home/quy/GitHub/airbnb-project/src/jupyter'"
      ]
     },
     "execution_count": 11,
     "metadata": {},
     "output_type": "execute_result"
    }
   ],
   "source": [
    "os.getcwd()"
   ]
  },
  {
   "cell_type": "code",
   "execution_count": 12,
   "metadata": {},
   "outputs": [],
   "source": [
    "sep19 = \"../../input/Sep2019.csv\"\n",
    "aug19 = \"../../input/Aug2019.csv\"\n",
    "jul19 = \"../../input/Jul2019.csv\"\n",
    "jun19 = \"../../input/Jun2019.csv\"\n",
    "may19 = \"../../input/May2019.csv\"\n",
    "apr19 = \"../../input/Apr2019.csv\"\n",
    "mar19 = \"../../input/Mar2019.csv\"\n",
    "feb19 = \"../../input/Feb2019.csv\"\n",
    "jan19 = \"../../input/Jan2019.csv\""
   ]
  },
  {
   "cell_type": "code",
   "execution_count": 13,
   "metadata": {},
   "outputs": [],
   "source": [
    "sep19_pd = pd.read_csv(sep19)\n",
    "aug19_pd = pd.read_csv(aug19)\n",
    "jul19_pd = pd.read_csv(jul19)\n",
    "jun19_pd = pd.read_csv(jun19)\n",
    "may19_pd = pd.read_csv(may19)\n",
    "apr19_pd = pd.read_csv(apr19)\n",
    "mar19_pd = pd.read_csv(mar19)\n",
    "feb19_pd = pd.read_csv(feb19)\n",
    "jan19_pd = pd.read_csv(jan19)"
   ]
  },
  {
   "cell_type": "code",
   "execution_count": 14,
   "metadata": {},
   "outputs": [],
   "source": [
    "sepaug19 = pd.merge(sep19_pd, aug19_pd, how='outer')\n",
    "plusjul19 = pd.merge(sepaug19, jul19_pd, how='outer')\n",
    "plusjun19 = pd.merge(plusjul19, jul19_pd, how='outer')\n",
    "plusmay19 = pd.merge(plusjun19, jul19_pd, how='outer')\n",
    "plusapr19 = pd.merge(plusmay19, jul19_pd, how='outer')\n",
    "plusmar19 = pd.merge(plusapr19, jul19_pd, how='outer')\n",
    "plusfeb19 = pd.merge(plusmar19, jul19_pd, how='outer')\n",
    "plusjan19 = pd.merge(plusfeb19, jul19_pd, how='outer')\n",
    "\n",
    "airbnb19_df = plusjan19.drop(plusjan19.columns[[1, 2, 3, 8, 10, 11, 12, 13, 14, 15]], axis=1)"
   ]
  },
  {
   "cell_type": "code",
   "execution_count": 15,
   "metadata": {},
   "outputs": [],
   "source": [
    "airbnb19_df = airbnb19_df.set_index('id')"
   ]
  },
  {
   "cell_type": "code",
   "execution_count": 16,
   "metadata": {
    "scrolled": true
   },
   "outputs": [
    {
     "data": {
      "text/html": [
       "<div>\n",
       "<style scoped>\n",
       "    .dataframe tbody tr th:only-of-type {\n",
       "        vertical-align: middle;\n",
       "    }\n",
       "\n",
       "    .dataframe tbody tr th {\n",
       "        vertical-align: top;\n",
       "    }\n",
       "\n",
       "    .dataframe thead th {\n",
       "        text-align: right;\n",
       "    }\n",
       "</style>\n",
       "<table border=\"1\" class=\"dataframe\">\n",
       "  <thead>\n",
       "    <tr style=\"text-align: right;\">\n",
       "      <th></th>\n",
       "      <th>neighbourhood_group</th>\n",
       "      <th>neighbourhood</th>\n",
       "      <th>latitude</th>\n",
       "      <th>longitude</th>\n",
       "      <th>price</th>\n",
       "    </tr>\n",
       "    <tr>\n",
       "      <th>id</th>\n",
       "      <th></th>\n",
       "      <th></th>\n",
       "      <th></th>\n",
       "      <th></th>\n",
       "      <th></th>\n",
       "    </tr>\n",
       "  </thead>\n",
       "  <tbody>\n",
       "    <tr>\n",
       "      <td>3647</td>\n",
       "      <td>Manhattan</td>\n",
       "      <td>Harlem</td>\n",
       "      <td>40.80902</td>\n",
       "      <td>-73.94190</td>\n",
       "      <td>150</td>\n",
       "    </tr>\n",
       "    <tr>\n",
       "      <td>3831</td>\n",
       "      <td>Brooklyn</td>\n",
       "      <td>Clinton Hill</td>\n",
       "      <td>40.68514</td>\n",
       "      <td>-73.95976</td>\n",
       "      <td>89</td>\n",
       "    </tr>\n",
       "    <tr>\n",
       "      <td>5022</td>\n",
       "      <td>Manhattan</td>\n",
       "      <td>East Harlem</td>\n",
       "      <td>40.79851</td>\n",
       "      <td>-73.94399</td>\n",
       "      <td>80</td>\n",
       "    </tr>\n",
       "    <tr>\n",
       "      <td>5099</td>\n",
       "      <td>Manhattan</td>\n",
       "      <td>Murray Hill</td>\n",
       "      <td>40.74767</td>\n",
       "      <td>-73.97500</td>\n",
       "      <td>200</td>\n",
       "    </tr>\n",
       "    <tr>\n",
       "      <td>5121</td>\n",
       "      <td>Brooklyn</td>\n",
       "      <td>Bedford-Stuyvesant</td>\n",
       "      <td>40.68688</td>\n",
       "      <td>-73.95596</td>\n",
       "      <td>60</td>\n",
       "    </tr>\n",
       "  </tbody>\n",
       "</table>\n",
       "</div>"
      ],
      "text/plain": [
       "     neighbourhood_group       neighbourhood  latitude  longitude  price\n",
       "id                                                                      \n",
       "3647           Manhattan              Harlem  40.80902  -73.94190    150\n",
       "3831            Brooklyn        Clinton Hill  40.68514  -73.95976     89\n",
       "5022           Manhattan         East Harlem  40.79851  -73.94399     80\n",
       "5099           Manhattan         Murray Hill  40.74767  -73.97500    200\n",
       "5121            Brooklyn  Bedford-Stuyvesant  40.68688  -73.95596     60"
      ]
     },
     "execution_count": 16,
     "metadata": {},
     "output_type": "execute_result"
    }
   ],
   "source": [
    "airbnb19_df.head()"
   ]
  },
  {
   "cell_type": "code",
   "execution_count": 8,
   "metadata": {},
   "outputs": [],
   "source": [
    "airbnb19_df.to_csv(\"Airbnb2019.csv\")"
   ]
  }
 ],
 "metadata": {
  "kernelspec": {
   "display_name": "Python 3",
   "language": "python",
   "name": "python3"
  },
  "language_info": {
   "codemirror_mode": {
    "name": "ipython",
    "version": 3
   },
   "file_extension": ".py",
   "mimetype": "text/x-python",
   "name": "python",
   "nbconvert_exporter": "python",
   "pygments_lexer": "ipython3",
   "version": "3.7.4"
  }
 },
 "nbformat": 4,
 "nbformat_minor": 2
}
