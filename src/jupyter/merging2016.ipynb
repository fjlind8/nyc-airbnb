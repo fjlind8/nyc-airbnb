{
 "cells": [
  {
   "cell_type": "code",
   "execution_count": 1,
   "metadata": {},
   "outputs": [],
   "source": [
    "import pandas as pd\n",
    "import numpy as np\n",
    "import os"
   ]
  },
  {
   "cell_type": "code",
   "execution_count": 2,
   "metadata": {},
   "outputs": [],
   "source": [
    "dec16 = \"../../input/Dec2016.csv\"\n",
    "nov16 = \"../../input/Nov2016.csv\"\n",
    "oct16 = \"../../input/Oct2016.csv\"\n",
    "sep16 = \"../../input/Sep2016.csv\"\n",
    "aug16 = \"../../input/Aug2016.csv\"\n",
    "jul16 = \"../../input/Jul2016.csv\"\n",
    "jun16 = \"../../input/Jun2016.csv\"\n",
    "may16 = \"../../input/May2016.csv\"\n",
    "apr16 = \"../../input/Apr2016.csv\"\n",
    "feb16 = \"../../input/Feb2016.csv\"\n",
    "jan16 = \"../../input/Jan2016.csv\""
   ]
  },
  {
   "cell_type": "code",
   "execution_count": 3,
   "metadata": {},
   "outputs": [
    {
     "name": "stderr",
     "output_type": "stream",
     "text": [
      "/home/quy/anaconda3/lib/python3.7/site-packages/IPython/core/interactiveshell.py:3058: DtypeWarning: Columns (12) have mixed types. Specify dtype option on import or set low_memory=False.\n",
      "  interactivity=interactivity, compiler=compiler, result=result)\n"
     ]
    }
   ],
   "source": [
    "dec16_pd = pd.read_csv(dec16)\n",
    "nov16_pd = pd.read_csv(nov16)\n",
    "oct16_pd = pd.read_csv(oct16)\n",
    "sep16_pd = pd.read_csv(sep16)\n",
    "aug16_pd = pd.read_csv(aug16)\n",
    "jul16_pd = pd.read_csv(jul16)\n",
    "jun16_pd = pd.read_csv(jun16)\n",
    "may16_pd = pd.read_csv(may16)\n",
    "apr16_pd = pd.read_csv(apr16)\n",
    "feb16_pd = pd.read_csv(feb16)\n",
    "jan16_pd = pd.read_csv(jan16)"
   ]
  },
  {
   "cell_type": "code",
   "execution_count": 5,
   "metadata": {},
   "outputs": [],
   "source": [
    "decnov16 = pd.merge(dec16_pd, nov16_pd, how='outer')\n",
    "plusoct16 = pd.merge(decnov16, oct16_pd, how='outer')\n",
    "plussep16 = pd.merge(plusoct16, sep16_pd, how='outer')\n",
    "plusaug16 = pd.merge(plussep16, aug16_pd, how='outer')\n",
    "plusjul16 = pd.merge(plusaug16, jul16_pd, how='outer')\n",
    "plusjun16 = pd.merge(plusjul16, jun16_pd, how='outer')\n",
    "plusmay16 = pd.merge(plusjun16, may16_pd, how='outer')\n",
    "plusapr16 = pd.merge(plusmay16, apr16_pd, how='outer')\n",
    "plusfeb16 = pd.merge(plusapr16, feb16_pd, how='outer')\n",
    "plusjan16 = pd.merge(plusfeb16, jan16_pd, how='outer')\n",
    "\n",
    "airbnb16_df = plusjan16.drop(plusjan16.columns[[1, 2, 3, 8, 10, 11, 12, 13, 14, 15]], axis=1)"
   ]
  },
  {
   "cell_type": "code",
   "execution_count": 6,
   "metadata": {},
   "outputs": [],
   "source": [
    "airbnb16_df = airbnb16_df.set_index('id')"
   ]
  },
  {
   "cell_type": "code",
   "execution_count": 8,
   "metadata": {
    "scrolled": true
   },
   "outputs": [
    {
     "data": {
      "text/html": [
       "<div>\n",
       "<style scoped>\n",
       "    .dataframe tbody tr th:only-of-type {\n",
       "        vertical-align: middle;\n",
       "    }\n",
       "\n",
       "    .dataframe tbody tr th {\n",
       "        vertical-align: top;\n",
       "    }\n",
       "\n",
       "    .dataframe thead th {\n",
       "        text-align: right;\n",
       "    }\n",
       "</style>\n",
       "<table border=\"1\" class=\"dataframe\">\n",
       "  <thead>\n",
       "    <tr style=\"text-align: right;\">\n",
       "      <th></th>\n",
       "      <th>neighbourhood_group</th>\n",
       "      <th>neighbourhood</th>\n",
       "      <th>latitude</th>\n",
       "      <th>longitude</th>\n",
       "      <th>price</th>\n",
       "    </tr>\n",
       "    <tr>\n",
       "      <th>id</th>\n",
       "      <th></th>\n",
       "      <th></th>\n",
       "      <th></th>\n",
       "      <th></th>\n",
       "      <th></th>\n",
       "    </tr>\n",
       "  </thead>\n",
       "  <tbody>\n",
       "    <tr>\n",
       "      <td>9147025</td>\n",
       "      <td>Bronx</td>\n",
       "      <td>City Island</td>\n",
       "      <td>40.844870</td>\n",
       "      <td>-73.789541</td>\n",
       "      <td>125</td>\n",
       "    </tr>\n",
       "    <tr>\n",
       "      <td>7949480</td>\n",
       "      <td>Bronx</td>\n",
       "      <td>City Island</td>\n",
       "      <td>40.852054</td>\n",
       "      <td>-73.788680</td>\n",
       "      <td>99</td>\n",
       "    </tr>\n",
       "    <tr>\n",
       "      <td>6627449</td>\n",
       "      <td>Bronx</td>\n",
       "      <td>City Island</td>\n",
       "      <td>40.849775</td>\n",
       "      <td>-73.786609</td>\n",
       "      <td>125</td>\n",
       "    </tr>\n",
       "    <tr>\n",
       "      <td>1886820</td>\n",
       "      <td>Bronx</td>\n",
       "      <td>City Island</td>\n",
       "      <td>40.841144</td>\n",
       "      <td>-73.783052</td>\n",
       "      <td>300</td>\n",
       "    </tr>\n",
       "    <tr>\n",
       "      <td>16042478</td>\n",
       "      <td>Bronx</td>\n",
       "      <td>City Island</td>\n",
       "      <td>40.853491</td>\n",
       "      <td>-73.788607</td>\n",
       "      <td>200</td>\n",
       "    </tr>\n",
       "  </tbody>\n",
       "</table>\n",
       "</div>"
      ],
      "text/plain": [
       "         neighbourhood_group neighbourhood   latitude  longitude  price\n",
       "id                                                                     \n",
       "9147025                Bronx   City Island  40.844870 -73.789541    125\n",
       "7949480                Bronx   City Island  40.852054 -73.788680     99\n",
       "6627449                Bronx   City Island  40.849775 -73.786609    125\n",
       "1886820                Bronx   City Island  40.841144 -73.783052    300\n",
       "16042478               Bronx   City Island  40.853491 -73.788607    200"
      ]
     },
     "execution_count": 8,
     "metadata": {},
     "output_type": "execute_result"
    }
   ],
   "source": [
    "airbnb16_df.head()"
   ]
  },
  {
   "cell_type": "code",
   "execution_count": 9,
   "metadata": {},
   "outputs": [],
   "source": [
    "airbnb16_df.to_csv(\"Airbnb2016.csv\")"
   ]
  }
 ],
 "metadata": {
  "kernelspec": {
   "display_name": "Python 3",
   "language": "python",
   "name": "python3"
  },
  "language_info": {
   "codemirror_mode": {
    "name": "ipython",
    "version": 3
   },
   "file_extension": ".py",
   "mimetype": "text/x-python",
   "name": "python",
   "nbconvert_exporter": "python",
   "pygments_lexer": "ipython3",
   "version": "3.7.4"
  }
 },
 "nbformat": 4,
 "nbformat_minor": 2
}
