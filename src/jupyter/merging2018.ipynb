{
 "cells": [
  {
   "cell_type": "code",
   "execution_count": 1,
   "metadata": {},
   "outputs": [],
   "source": [
    "import pandas as pd\n",
    "import numpy as np\n",
    "import os"
   ]
  },
  {
   "cell_type": "code",
   "execution_count": 2,
   "metadata": {},
   "outputs": [],
   "source": [
    "dec18 = \"../../input/Dec2018.csv\"\n",
    "nov18 = \"../../input/Nov2018.csv\"\n",
    "oct18 = \"../../input/Oct2018.csv\"\n",
    "sep18 = \"../../input/Sep2018.csv\"\n",
    "aug18 = \"../../input/Aug2018.csv\"\n",
    "jul18 = \"../../input/Jul2018.csv\"\n",
    "jun18 = \"../../input/Jun2018.csv\"\n",
    "may18 = \"../../input/May2018.csv\"\n",
    "apr18 = \"../../input/Apr2018.csv\"\n",
    "mar18 = \"../../input/Mar2018.csv\"\n",
    "feb18 = \"../../input/Feb2018.csv\"\n",
    "jan18 = \"../../input/Jan2018.csv\""
   ]
  },
  {
   "cell_type": "code",
   "execution_count": 3,
   "metadata": {},
   "outputs": [],
   "source": [
    "dec18_pd = pd.read_csv(dec18)\n",
    "nov18_pd = pd.read_csv(nov18)\n",
    "oct18_pd = pd.read_csv(oct18)\n",
    "sep18_pd = pd.read_csv(sep18)\n",
    "aug18_pd = pd.read_csv(aug18)\n",
    "jul18_pd = pd.read_csv(jul18)\n",
    "jun18_pd = pd.read_csv(jun18)\n",
    "may18_pd = pd.read_csv(may18)\n",
    "apr18_pd = pd.read_csv(apr18)\n",
    "mar18_pd = pd.read_csv(mar18)\n",
    "feb18_pd = pd.read_csv(feb18)\n",
    "jan18_pd = pd.read_csv(jan18)"
   ]
  },
  {
   "cell_type": "code",
   "execution_count": 4,
   "metadata": {},
   "outputs": [],
   "source": [
    "decnov18 = pd.merge(dec18_pd, nov18_pd, how='outer')\n",
    "plusoct18 = pd.merge(decnov18, oct18_pd, how='outer')\n",
    "plussep18 = pd.merge(plusoct18, sep18_pd, how='outer')\n",
    "plusaug18 = pd.merge(plussep18, aug18_pd, how='outer')\n",
    "plusjul18 = pd.merge(plusaug18, jul18_pd, how='outer')\n",
    "plusjun18 = pd.merge(plusjul18, jun18_pd, how='outer')\n",
    "plusmay18 = pd.merge(plusjun18, may18_pd, how='outer')\n",
    "plusapr18 = pd.merge(plusmay18, apr18_pd, how='outer')\n",
    "plusmar18 = pd.merge(plusapr18, mar18_pd, how='outer')\n",
    "plusfeb18 = pd.merge(plusmar18, feb18_pd, how='outer')\n",
    "plusjan18 = pd.merge(plusfeb18, jan18_pd, how='outer')\n",
    "\n",
    "airbnb18_df = plusjan18.drop(plusjan18.columns[[1, 2, 3, 8, 10, 11, 12, 13, 14, 15]], axis=1)"
   ]
  },
  {
   "cell_type": "code",
   "execution_count": 5,
   "metadata": {},
   "outputs": [],
   "source": [
    "airbnb18_df = airbnb18_df.set_index('id')"
   ]
  },
  {
   "cell_type": "code",
   "execution_count": 8,
   "metadata": {},
   "outputs": [
    {
     "data": {
      "text/html": [
       "<div>\n",
       "<style scoped>\n",
       "    .dataframe tbody tr th:only-of-type {\n",
       "        vertical-align: middle;\n",
       "    }\n",
       "\n",
       "    .dataframe tbody tr th {\n",
       "        vertical-align: top;\n",
       "    }\n",
       "\n",
       "    .dataframe thead th {\n",
       "        text-align: right;\n",
       "    }\n",
       "</style>\n",
       "<table border=\"1\" class=\"dataframe\">\n",
       "  <thead>\n",
       "    <tr style=\"text-align: right;\">\n",
       "      <th></th>\n",
       "      <th>neighbourhood_group</th>\n",
       "      <th>neighbourhood</th>\n",
       "      <th>latitude</th>\n",
       "      <th>longitude</th>\n",
       "      <th>price</th>\n",
       "    </tr>\n",
       "    <tr>\n",
       "      <th>id</th>\n",
       "      <th></th>\n",
       "      <th></th>\n",
       "      <th></th>\n",
       "      <th></th>\n",
       "      <th></th>\n",
       "    </tr>\n",
       "  </thead>\n",
       "  <tbody>\n",
       "    <tr>\n",
       "      <td>2515</td>\n",
       "      <td>Manhattan</td>\n",
       "      <td>Harlem</td>\n",
       "      <td>40.799205</td>\n",
       "      <td>-73.953676</td>\n",
       "      <td>59</td>\n",
       "    </tr>\n",
       "    <tr>\n",
       "      <td>21456</td>\n",
       "      <td>Manhattan</td>\n",
       "      <td>Upper West Side</td>\n",
       "      <td>40.797642</td>\n",
       "      <td>-73.961775</td>\n",
       "      <td>140</td>\n",
       "    </tr>\n",
       "    <tr>\n",
       "      <td>2539</td>\n",
       "      <td>Brooklyn</td>\n",
       "      <td>Kensington</td>\n",
       "      <td>40.647486</td>\n",
       "      <td>-73.972370</td>\n",
       "      <td>149</td>\n",
       "    </tr>\n",
       "    <tr>\n",
       "      <td>21644</td>\n",
       "      <td>Manhattan</td>\n",
       "      <td>Harlem</td>\n",
       "      <td>40.828028</td>\n",
       "      <td>-73.947308</td>\n",
       "      <td>89</td>\n",
       "    </tr>\n",
       "    <tr>\n",
       "      <td>2595</td>\n",
       "      <td>Manhattan</td>\n",
       "      <td>Midtown</td>\n",
       "      <td>40.753621</td>\n",
       "      <td>-73.983774</td>\n",
       "      <td>225</td>\n",
       "    </tr>\n",
       "  </tbody>\n",
       "</table>\n",
       "</div>"
      ],
      "text/plain": [
       "      neighbourhood_group    neighbourhood   latitude  longitude  price\n",
       "id                                                                     \n",
       "2515            Manhattan           Harlem  40.799205 -73.953676     59\n",
       "21456           Manhattan  Upper West Side  40.797642 -73.961775    140\n",
       "2539             Brooklyn       Kensington  40.647486 -73.972370    149\n",
       "21644           Manhattan           Harlem  40.828028 -73.947308     89\n",
       "2595            Manhattan          Midtown  40.753621 -73.983774    225"
      ]
     },
     "execution_count": 8,
     "metadata": {},
     "output_type": "execute_result"
    }
   ],
   "source": [
    "airbnb18_df.head()"
   ]
  },
  {
   "cell_type": "code",
   "execution_count": 7,
   "metadata": {},
   "outputs": [],
   "source": [
    "airbnb18_df.to_csv(\"Airbnb2018.csv\")"
   ]
  }
 ],
 "metadata": {
  "kernelspec": {
   "display_name": "Python 3",
   "language": "python",
   "name": "python3"
  },
  "language_info": {
   "codemirror_mode": {
    "name": "ipython",
    "version": 3
   },
   "file_extension": ".py",
   "mimetype": "text/x-python",
   "name": "python",
   "nbconvert_exporter": "python",
   "pygments_lexer": "ipython3",
   "version": "3.7.4"
  }
 },
 "nbformat": 4,
 "nbformat_minor": 2
}
