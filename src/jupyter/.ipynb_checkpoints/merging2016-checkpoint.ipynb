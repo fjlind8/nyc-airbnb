{
 "cells": [
  {
   "cell_type": "code",
   "execution_count": 1,
   "metadata": {},
   "outputs": [],
   "source": [
    "import pandas as pd\n",
    "import numpy as np\n",
    "import os"
   ]
  },
  {
   "cell_type": "code",
   "execution_count": 2,
   "metadata": {},
   "outputs": [],
   "source": [
    "dec16 = \"../../input/Dec2016.csv\"\n",
    "nov16 = \"../../input/Nov2016.csv\"\n",
    "oct16 = \"../../input/Oct2016.csv\"\n",
    "sep16 = \"../../input/Sep2016.csv\"\n",
    "aug16 = \"../../input/Aug2016.csv\"\n",
    "jul16 = \"../../input/Jul2016.csv\"\n",
    "jun16 = \"../../input/Jun2016.csv\"\n",
    "may16 = \"../../input/May2016.csv\"\n",
    "apr16 = \"../../input/Apr2016.csv\"\n",
    "feb16 = \"../../input/Feb2016.csv\"\n",
    "jan16 = \"../../input/Jan2016.csv\""
   ]
  },
  {
   "cell_type": "code",
   "execution_count": 3,
   "metadata": {},
   "outputs": [
    {
     "name": "stderr",
     "output_type": "stream",
     "text": [
      "/home/quy/anaconda3/lib/python3.7/site-packages/IPython/core/interactiveshell.py:3058: DtypeWarning: Columns (12) have mixed types. Specify dtype option on import or set low_memory=False.\n",
      "  interactivity=interactivity, compiler=compiler, result=result)\n"
     ]
    }
   ],
   "source": [
    "dec16_pd = pd.read_csv(dec16)\n",
    "nov16_pd = pd.read_csv(nov16)\n",
    "oct16_pd = pd.read_csv(oct16)\n",
    "sep16_pd = pd.read_csv(sep16)\n",
    "aug16_pd = pd.read_csv(aug16)\n",
    "jul16_pd = pd.read_csv(jul16)\n",
    "jun16_pd = pd.read_csv(jun16)\n",
    "may16_pd = pd.read_csv(may16)\n",
    "apr16_pd = pd.read_csv(apr16)\n",
    "feb16_pd = pd.read_csv(feb16)\n",
    "jan16_pd = pd.read_csv(jan16)"
   ]
  },
  {
   "cell_type": "code",
   "execution_count": null,
   "metadata": {},
   "outputs": [],
   "source": [
    "decnov16 = pd.merge(dec16_pd, nov16_pd, how='outer')\n",
    "plusoct16 = pd.merge(decnov16, oct16_pd, how='outer')\n",
    "plussep16 = pd.merge(plusoct16, sep16_pd, how='outer')\n",
    "plusaug16 = pd.merge(plussep16, aug16_pd, how='outer')\n",
    "plusjul16 = pd.merge(plusaug16, jul16_pd, how='outer')\n",
    "plusjun16 = pd.merge(plusjul16, jun16_pd, how='outer')\n",
    "plusmay16 = pd.merge(plusjun16, may16_pd, how='outer')\n",
    "plusapr16 = pd.merge(plusmay16, apr16_pd, how='outer')\n",
    "plusfeb16 = pd.merge(plusapr16, feb16_pd, how='outer')\n",
    "plusjan16 = pd.merge(plusfeb16, jan16_pd, how='outer')\n",
    "\n",
    "airbnb16_df = plusjan16.drop(plusjan16.columns[[1, 2, 3, 8, 10, 11, 12, 13, 14, 15]], axis=1)\n",
    "airbnb16_df = airbnb16_df.set_index('index')"
   ]
  },
  {
   "cell_type": "code",
   "execution_count": null,
   "metadata": {
    "scrolled": true
   },
   "outputs": [],
   "source": [
    "airbnb16_df.head()"
   ]
  },
  {
   "cell_type": "code",
   "execution_count": null,
   "metadata": {},
   "outputs": [],
   "source": [
    "airbnb16_df.to_csv(\"Airbnb2016.csv\")"
   ]
  }
 ],
 "metadata": {
  "kernelspec": {
   "display_name": "Python 3",
   "language": "python",
   "name": "python3"
  },
  "language_info": {
   "codemirror_mode": {
    "name": "ipython",
    "version": 3
   },
   "file_extension": ".py",
   "mimetype": "text/x-python",
   "name": "python",
   "nbconvert_exporter": "python",
   "pygments_lexer": "ipython3",
   "version": "3.7.4"
  }
 },
 "nbformat": 4,
 "nbformat_minor": 2
}
