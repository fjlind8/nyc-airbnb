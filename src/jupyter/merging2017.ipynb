{
 "cells": [
  {
   "cell_type": "code",
   "execution_count": 1,
   "metadata": {},
   "outputs": [],
   "source": [
    "import pandas as pd\n",
    "import numpy as np\n",
    "import os"
   ]
  },
  {
   "cell_type": "code",
   "execution_count": 2,
   "metadata": {},
   "outputs": [],
   "source": [
    "dec17 = \"../../input/Dec2017.csv\"\n",
    "nov17 = \"../../input/Nov2017.csv\"\n",
    "oct17 = \"../../input/Oct2017.csv\"\n",
    "sep17 = \"../../input/Sep2017.csv\"\n",
    "aug17 = \"../../input/Aug2017.csv\"\n",
    "jul17 = \"../../input/Jul2017.csv\"\n",
    "jun17 = \"../../input/Jun2017.csv\"\n",
    "may17 = \"../../input/May2017.csv\"\n",
    "apr17 = \"../../input/Apr2017.csv\"\n",
    "mar17 = \"../../input/Mar2017.csv\"\n",
    "feb17 = \"../../input/Feb2017.csv\"\n",
    "jan17 = \"../../input/Jan2017.csv\""
   ]
  },
  {
   "cell_type": "code",
   "execution_count": 3,
   "metadata": {},
   "outputs": [],
   "source": [
    "dec17_pd = pd.read_csv(dec17)\n",
    "nov17_pd = pd.read_csv(nov17)\n",
    "oct17_pd = pd.read_csv(oct17)\n",
    "sep17_pd = pd.read_csv(sep17)\n",
    "aug17_pd = pd.read_csv(aug17)\n",
    "jul17_pd = pd.read_csv(jul17)\n",
    "jun17_pd = pd.read_csv(jun17)\n",
    "may17_pd = pd.read_csv(may17)\n",
    "apr17_pd = pd.read_csv(apr17)\n",
    "mar17_pd = pd.read_csv(mar17)\n",
    "feb17_pd = pd.read_csv(feb17)\n",
    "jan17_pd = pd.read_csv(jan17)"
   ]
  },
  {
   "cell_type": "code",
   "execution_count": 4,
   "metadata": {},
   "outputs": [],
   "source": [
    "decnov17 = pd.merge(dec17_pd, nov17_pd, how='outer')\n",
    "plusoct17 = pd.merge(decnov17, oct17_pd, how='outer')\n",
    "plussep17 = pd.merge(plusoct17, sep17_pd, how='outer')\n",
    "plusaug17 = pd.merge(plussep17, aug17_pd, how='outer')\n",
    "plusjul17 = pd.merge(plusaug17, jul17_pd, how='outer')\n",
    "plusjun17 = pd.merge(plusjul17, jun17_pd, how='outer')\n",
    "plusmay17 = pd.merge(plusjun17, may17_pd, how='outer')\n",
    "plusapr17 = pd.merge(plusmay17, apr17_pd, how='outer')\n",
    "plusmar17 = pd.merge(plusapr17, mar17_pd, how='outer')\n",
    "plusfeb17 = pd.merge(plusmar17, feb17_pd, how='outer')\n",
    "plusjan17 = pd.merge(plusfeb17, jan17_pd, how='outer')\n",
    "\n",
    "airbnb17_df = plusjan17.drop(plusjan17.columns[[1, 2, 3, 8, 10, 11, 12, 13, 14, 15]], axis=1)"
   ]
  },
  {
   "cell_type": "code",
   "execution_count": 5,
   "metadata": {},
   "outputs": [],
   "source": [
    "airbnb17_df = airbnb17_df.set_index('id')"
   ]
  },
  {
   "cell_type": "code",
   "execution_count": 12,
   "metadata": {},
   "outputs": [
    {
     "data": {
      "text/html": [
       "<div>\n",
       "<style scoped>\n",
       "    .dataframe tbody tr th:only-of-type {\n",
       "        vertical-align: middle;\n",
       "    }\n",
       "\n",
       "    .dataframe tbody tr th {\n",
       "        vertical-align: top;\n",
       "    }\n",
       "\n",
       "    .dataframe thead th {\n",
       "        text-align: right;\n",
       "    }\n",
       "</style>\n",
       "<table border=\"1\" class=\"dataframe\">\n",
       "  <thead>\n",
       "    <tr style=\"text-align: right;\">\n",
       "      <th></th>\n",
       "      <th>neighbourhood_group</th>\n",
       "      <th>neighbourhood</th>\n",
       "      <th>latitude</th>\n",
       "      <th>longitude</th>\n",
       "      <th>price</th>\n",
       "    </tr>\n",
       "    <tr>\n",
       "      <th>id</th>\n",
       "      <th></th>\n",
       "      <th></th>\n",
       "      <th></th>\n",
       "      <th></th>\n",
       "      <th></th>\n",
       "    </tr>\n",
       "  </thead>\n",
       "  <tbody>\n",
       "    <tr>\n",
       "      <td>7949480</td>\n",
       "      <td>Bronx</td>\n",
       "      <td>City Island</td>\n",
       "      <td>40.852054</td>\n",
       "      <td>-73.788680</td>\n",
       "      <td>99</td>\n",
       "    </tr>\n",
       "    <tr>\n",
       "      <td>20702398</td>\n",
       "      <td>Bronx</td>\n",
       "      <td>City Island</td>\n",
       "      <td>40.849191</td>\n",
       "      <td>-73.786509</td>\n",
       "      <td>50</td>\n",
       "    </tr>\n",
       "    <tr>\n",
       "      <td>11675715</td>\n",
       "      <td>Bronx</td>\n",
       "      <td>City Island</td>\n",
       "      <td>40.851391</td>\n",
       "      <td>-73.784139</td>\n",
       "      <td>85</td>\n",
       "    </tr>\n",
       "    <tr>\n",
       "      <td>9147025</td>\n",
       "      <td>Bronx</td>\n",
       "      <td>City Island</td>\n",
       "      <td>40.844870</td>\n",
       "      <td>-73.789541</td>\n",
       "      <td>125</td>\n",
       "    </tr>\n",
       "    <tr>\n",
       "      <td>1936633</td>\n",
       "      <td>Bronx</td>\n",
       "      <td>City Island</td>\n",
       "      <td>40.852582</td>\n",
       "      <td>-73.787621</td>\n",
       "      <td>100</td>\n",
       "    </tr>\n",
       "  </tbody>\n",
       "</table>\n",
       "</div>"
      ],
      "text/plain": [
       "         neighbourhood_group neighbourhood   latitude  longitude  price\n",
       "id                                                                     \n",
       "7949480                Bronx   City Island  40.852054 -73.788680     99\n",
       "20702398               Bronx   City Island  40.849191 -73.786509     50\n",
       "11675715               Bronx   City Island  40.851391 -73.784139     85\n",
       "9147025                Bronx   City Island  40.844870 -73.789541    125\n",
       "1936633                Bronx   City Island  40.852582 -73.787621    100"
      ]
     },
     "execution_count": 12,
     "metadata": {},
     "output_type": "execute_result"
    }
   ],
   "source": [
    "airbnb17_df.head()"
   ]
  },
  {
   "cell_type": "code",
   "execution_count": 7,
   "metadata": {},
   "outputs": [],
   "source": [
    "airbnb17_df.to_csv(\"Airbnb2017.csv\")"
   ]
  }
 ],
 "metadata": {
  "kernelspec": {
   "display_name": "Python 3",
   "language": "python",
   "name": "python3"
  },
  "language_info": {
   "codemirror_mode": {
    "name": "ipython",
    "version": 3
   },
   "file_extension": ".py",
   "mimetype": "text/x-python",
   "name": "python",
   "nbconvert_exporter": "python",
   "pygments_lexer": "ipython3",
   "version": "3.7.4"
  }
 },
 "nbformat": 4,
 "nbformat_minor": 2
}
